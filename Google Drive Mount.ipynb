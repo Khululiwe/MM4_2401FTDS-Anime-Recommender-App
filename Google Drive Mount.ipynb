{
 "cells": [
  {
   "cell_type": "code",
   "execution_count": null,
   "id": "c931c105",
   "metadata": {},
   "outputs": [],
   "source": [
    "import os\n",
    "\n",
    "# Specify the notebook you want to delete\n",
    "notebook_to_delete = 'anime-recommender-system-project-mm4-d1742c.ipynb'\n",
    "\n",
    "# Delete the file\n",
    "if os.path.exists(notebook_to_delete):\n",
    "    os.remove(notebook_to_delete)\n",
    "    print(f\"{notebook_to_delete} has been deleted.\")\n",
    "else:\n",
    "    print(\"The file does not exist.\")"
   ]
  },
  {
   "cell_type": "markdown",
   "id": "fd0e67f9",
   "metadata": {},
   "source": [
    "### mounting of data and models using google drive"
   ]
  }
 ],
 "metadata": {
  "kernelspec": {
   "display_name": "Python 3 (ipykernel)",
   "language": "python",
   "name": "python3"
  },
  "language_info": {
   "codemirror_mode": {
    "name": "ipython",
    "version": 3
   },
   "file_extension": ".py",
   "mimetype": "text/x-python",
   "name": "python",
   "nbconvert_exporter": "python",
   "pygments_lexer": "ipython3",
   "version": "3.11.5"
  }
 },
 "nbformat": 4,
 "nbformat_minor": 5
}
